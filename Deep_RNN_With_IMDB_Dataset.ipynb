{
  "nbformat": 4,
  "nbformat_minor": 0,
  "metadata": {
    "colab": {
      "provenance": []
    },
    "kernelspec": {
      "name": "python3",
      "display_name": "Python 3"
    },
    "language_info": {
      "name": "python"
    }
  },
  "cells": [
    {
      "cell_type": "markdown",
      "source": [
        "#Import Necessary Laibraries"
      ],
      "metadata": {
        "id": "OPkVvlUiXfXX"
      }
    },
    {
      "cell_type": "code",
      "execution_count": 11,
      "metadata": {
        "id": "sx4vCKCeV5P9"
      },
      "outputs": [],
      "source": [
        "import tensorflow as tf\n",
        "from tensorflow.keras.datasets import imdb\n",
        "from tensorflow.keras.preprocessing.sequence import pad_sequences\n",
        "from tensorflow.keras.models import Sequential\n",
        "from tensorflow.keras.layers import Dense, Embedding,SimpleRNN"
      ]
    },
    {
      "cell_type": "markdown",
      "source": [
        "#Load IMDB Dataset"
      ],
      "metadata": {
        "id": "O-0FlbEiXk4w"
      }
    },
    {
      "cell_type": "code",
      "source": [
        "(x_train,y_train),(x_test,y_test) = imdb.load_data(num_words=10000)"
      ],
      "metadata": {
        "colab": {
          "base_uri": "https://localhost:8080/"
        },
        "id": "WONABLTmXWwb",
        "outputId": "7ea4c44f-2cf6-4394-a2a0-83e89a57e06d"
      },
      "execution_count": 2,
      "outputs": [
        {
          "output_type": "stream",
          "name": "stdout",
          "text": [
            "Downloading data from https://storage.googleapis.com/tensorflow/tf-keras-datasets/imdb.npz\n",
            "17464789/17464789 [==============================] - 0s 0us/step\n"
          ]
        }
      ]
    },
    {
      "cell_type": "markdown",
      "source": [
        "#Pad Sequence For Same Length"
      ],
      "metadata": {
        "id": "2tAu5susX1A_"
      }
    },
    {
      "cell_type": "code",
      "source": [
        "x_train = pad_sequences(x_train,maxlen=100)\n",
        "x_test = pad_sequences(x_test,maxlen=100)"
      ],
      "metadata": {
        "id": "urdqQTDaXydK"
      },
      "execution_count": 3,
      "outputs": []
    },
    {
      "cell_type": "code",
      "source": [
        "x_train"
      ],
      "metadata": {
        "colab": {
          "base_uri": "https://localhost:8080/"
        },
        "id": "4bnzomzQYGz_",
        "outputId": "2dd9e3ce-01db-48d4-cba5-57971021fec3"
      },
      "execution_count": 4,
      "outputs": [
        {
          "output_type": "execute_result",
          "data": {
            "text/plain": [
              "array([[1415,   33,    6, ...,   19,  178,   32],\n",
              "       [ 163,   11, 3215, ...,   16,  145,   95],\n",
              "       [1301,    4, 1873, ...,    7,  129,  113],\n",
              "       ...,\n",
              "       [  11,    6, 4065, ...,    4, 3586,    2],\n",
              "       [ 100, 2198,    8, ...,   12,    9,   23],\n",
              "       [  78, 1099,   17, ...,  204,  131,    9]], dtype=int32)"
            ]
          },
          "metadata": {},
          "execution_count": 4
        }
      ]
    },
    {
      "cell_type": "code",
      "source": [
        "x_test"
      ],
      "metadata": {
        "colab": {
          "base_uri": "https://localhost:8080/"
        },
        "id": "vsUlY3syYJgB",
        "outputId": "7bc8e375-aa79-42d8-af04-ddd9641e5c7a"
      },
      "execution_count": 5,
      "outputs": [
        {
          "output_type": "execute_result",
          "data": {
            "text/plain": [
              "array([[   0,    0,    0, ...,   14,    6,  717],\n",
              "       [   6,  976, 2078, ...,  125,    4, 3077],\n",
              "       [   4, 5673,    7, ...,    9,   57,  975],\n",
              "       ...,\n",
              "       [   0,    0,    0, ...,   21,  846, 5518],\n",
              "       [   0,    1,   11, ..., 2302,    7,  470],\n",
              "       [  56,   96,  346, ...,   34, 2005, 2643]], dtype=int32)"
            ]
          },
          "metadata": {},
          "execution_count": 5
        }
      ]
    },
    {
      "cell_type": "markdown",
      "source": [
        "#Defin Deep-RNN Model"
      ],
      "metadata": {
        "id": "Zvw7FTbAYRGl"
      }
    },
    {
      "cell_type": "code",
      "source": [
        "model=Sequential([\n",
        "  Embedding(10000,32,input_length=100),  #For convert data into vectors\n",
        "  SimpleRNN(5,return_sequences=True),    #RNN layer with 5 units\n",
        "  SimpleRNN(5),                          #Another RNN layer with 5 units\n",
        "  Dense(1,activation='sigmoid')          #\"Sigmoid\" for binary classification\n",
        "])\n",
        "\n",
        "model.summary()"
      ],
      "metadata": {
        "colab": {
          "base_uri": "https://localhost:8080/"
        },
        "id": "WJL9jRPgYMCR",
        "outputId": "76561d4c-f575-4ab2-be68-de886b598f10"
      },
      "execution_count": 6,
      "outputs": [
        {
          "output_type": "stream",
          "name": "stdout",
          "text": [
            "Model: \"sequential\"\n",
            "_________________________________________________________________\n",
            " Layer (type)                Output Shape              Param #   \n",
            "=================================================================\n",
            " embedding (Embedding)       (None, 100, 32)           320000    \n",
            "                                                                 \n",
            " simple_rnn (SimpleRNN)      (None, 100, 5)            190       \n",
            "                                                                 \n",
            " simple_rnn_1 (SimpleRNN)    (None, 5)                 55        \n",
            "                                                                 \n",
            " dense (Dense)               (None, 1)                 6         \n",
            "                                                                 \n",
            "=================================================================\n",
            "Total params: 320251 (1.22 MB)\n",
            "Trainable params: 320251 (1.22 MB)\n",
            "Non-trainable params: 0 (0.00 Byte)\n",
            "_________________________________________________________________\n"
          ]
        }
      ]
    },
    {
      "cell_type": "markdown",
      "source": [
        "#Compile The Model"
      ],
      "metadata": {
        "id": "npcyGd7ak9Jj"
      }
    },
    {
      "cell_type": "code",
      "source": [
        "model.compile(loss='binary_crossentropy',optimizer='adam',metrics=['accuracy'])"
      ],
      "metadata": {
        "id": "APCJSzrWjlkS"
      },
      "execution_count": 7,
      "outputs": []
    },
    {
      "cell_type": "markdown",
      "source": [
        "#Train The Model"
      ],
      "metadata": {
        "id": "rN5G8aLznSp7"
      }
    },
    {
      "cell_type": "code",
      "source": [
        "history=model.fit(x_train,y_train,epochs=5,batch_size=32,validation_split=0.2)"
      ],
      "metadata": {
        "colab": {
          "base_uri": "https://localhost:8080/"
        },
        "id": "LUXloPrrnR5t",
        "outputId": "bd9408b8-4223-48cf-b35a-a391a3194f49"
      },
      "execution_count": 8,
      "outputs": [
        {
          "output_type": "stream",
          "name": "stdout",
          "text": [
            "Epoch 1/5\n",
            "625/625 [==============================] - 33s 49ms/step - loss: 0.5640 - accuracy: 0.6935 - val_loss: 0.4690 - val_accuracy: 0.7914\n",
            "Epoch 2/5\n",
            "625/625 [==============================] - 30s 49ms/step - loss: 0.3710 - accuracy: 0.8487 - val_loss: 0.4741 - val_accuracy: 0.7874\n",
            "Epoch 3/5\n",
            "625/625 [==============================] - 30s 48ms/step - loss: 0.2559 - accuracy: 0.9030 - val_loss: 0.4744 - val_accuracy: 0.8064\n",
            "Epoch 4/5\n",
            "625/625 [==============================] - 31s 49ms/step - loss: 0.1871 - accuracy: 0.9342 - val_loss: 0.5259 - val_accuracy: 0.8090\n",
            "Epoch 5/5\n",
            "625/625 [==============================] - 30s 48ms/step - loss: 0.1323 - accuracy: 0.9568 - val_loss: 0.6010 - val_accuracy: 0.7972\n"
          ]
        }
      ]
    },
    {
      "cell_type": "code",
      "source": [],
      "metadata": {
        "id": "FUi_X7G6n6Yz"
      },
      "execution_count": null,
      "outputs": []
    }
  ]
}