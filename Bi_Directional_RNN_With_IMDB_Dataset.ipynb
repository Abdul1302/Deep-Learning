{
  "nbformat": 4,
  "nbformat_minor": 0,
  "metadata": {
    "colab": {
      "provenance": []
    },
    "kernelspec": {
      "name": "python3",
      "display_name": "Python 3"
    },
    "language_info": {
      "name": "python"
    }
  },
  "cells": [
    {
      "cell_type": "markdown",
      "source": [
        "#Import Necessary laibraries"
      ],
      "metadata": {
        "id": "LPt-0sy7wZpN"
      }
    },
    {
      "cell_type": "code",
      "execution_count": 6,
      "metadata": {
        "id": "cV1dJIZwwLwk"
      },
      "outputs": [],
      "source": [
        "import tensorflow as tf\n",
        "from tensorflow.keras.datasets import imdb\n",
        "from tensorflow.keras.preprocessing.sequence import pad_sequences\n",
        "from tensorflow.keras.models import Sequential\n",
        "from tensorflow.keras.layers import Dense, Embedding, SimpleRNN, Bidirectional"
      ]
    },
    {
      "cell_type": "markdown",
      "source": [
        "#Load IMDB Dataset"
      ],
      "metadata": {
        "id": "Y1YlY3o0wiQy"
      }
    },
    {
      "cell_type": "code",
      "source": [
        "(x_train,y_train),(x_test,y_test) = imdb.load_data(num_words=10000)"
      ],
      "metadata": {
        "colab": {
          "base_uri": "https://localhost:8080/"
        },
        "id": "ajW9oLTfwfg1",
        "outputId": "14987d5c-eec5-455b-83d9-53e7f5cd83e1"
      },
      "execution_count": 2,
      "outputs": [
        {
          "output_type": "stream",
          "name": "stdout",
          "text": [
            "Downloading data from https://storage.googleapis.com/tensorflow/tf-keras-datasets/imdb.npz\n",
            "17464789/17464789 [==============================] - 0s 0us/step\n"
          ]
        }
      ]
    },
    {
      "cell_type": "markdown",
      "source": [
        "#Pad Sequence For Same Length & Truncation"
      ],
      "metadata": {
        "id": "y2WXF9i-wqVu"
      }
    },
    {
      "cell_type": "code",
      "source": [
        "x_train = pad_sequences(x_train,maxlen=100,padding='post',truncating='post')\n",
        "x_test = pad_sequences(x_test,maxlen=100,padding='post',truncating='post')"
      ],
      "metadata": {
        "id": "SEm8Q6d6wmbV"
      },
      "execution_count": 3,
      "outputs": []
    },
    {
      "cell_type": "code",
      "source": [
        "x_train"
      ],
      "metadata": {
        "colab": {
          "base_uri": "https://localhost:8080/"
        },
        "id": "_0bdQ_coxKeK",
        "outputId": "90ecaf5a-4af6-495e-8244-f55bf7ab089f"
      },
      "execution_count": 4,
      "outputs": [
        {
          "output_type": "execute_result",
          "data": {
            "text/plain": [
              "array([[   1,   14,   22, ..., 2223, 5244,   16],\n",
              "       [   1,  194, 1153, ...,  775,    7, 8255],\n",
              "       [   1,   14,   47, ...,  326,   23, 2300],\n",
              "       ...,\n",
              "       [   1,   11,    6, ..., 4780,   11,    4],\n",
              "       [   1, 1446, 7079, ...,    4,  719, 3798],\n",
              "       [   1,   17,    6, ...,    5, 2642,  272]], dtype=int32)"
            ]
          },
          "metadata": {},
          "execution_count": 4
        }
      ]
    },
    {
      "cell_type": "code",
      "source": [
        "x_test"
      ],
      "metadata": {
        "colab": {
          "base_uri": "https://localhost:8080/"
        },
        "id": "-NeMVklIxM12",
        "outputId": "77f44acb-2737-4bf3-d870-2e9f577911f2"
      },
      "execution_count": 5,
      "outputs": [
        {
          "output_type": "execute_result",
          "data": {
            "text/plain": [
              "array([[   1,  591,  202, ...,    0,    0,    0],\n",
              "       [   1,   14,   22, ...,  157,    9,    4],\n",
              "       [   1,  111,  748, ...,   29,   93,   11],\n",
              "       ...,\n",
              "       [   1,   13, 1408, ...,    0,    0,    0],\n",
              "       [   1,   11,  119, ...,    7,  470,    0],\n",
              "       [   1,    6,   52, ...,   17,  210,    5]], dtype=int32)"
            ]
          },
          "metadata": {},
          "execution_count": 5
        }
      ]
    },
    {
      "cell_type": "markdown",
      "source": [
        "#Define Bi-Directional RNN"
      ],
      "metadata": {
        "id": "8NuqGG47xUPK"
      }
    },
    {
      "cell_type": "code",
      "source": [
        "model=Sequential([\n",
        "  Embedding(10000,32,input_length=100),  #For convert data into vectors\n",
        "  Bidirectional(SimpleRNN(5)),           #Bidirectional RNN layer with 5 units\n",
        "  Dense(1,activation='sigmoid')          #\"Sigmoid\" for binary classification\n",
        "])\n",
        "\n",
        "model.summary()"
      ],
      "metadata": {
        "colab": {
          "base_uri": "https://localhost:8080/"
        },
        "id": "eTY72yKVxOD3",
        "outputId": "0477d550-e0e2-4161-fcbb-2c5138a95093"
      },
      "execution_count": 7,
      "outputs": [
        {
          "output_type": "stream",
          "name": "stdout",
          "text": [
            "Model: \"sequential\"\n",
            "_________________________________________________________________\n",
            " Layer (type)                Output Shape              Param #   \n",
            "=================================================================\n",
            " embedding (Embedding)       (None, 100, 32)           320000    \n",
            "                                                                 \n",
            " bidirectional (Bidirection  (None, 10)                380       \n",
            " al)                                                             \n",
            "                                                                 \n",
            " dense (Dense)               (None, 1)                 11        \n",
            "                                                                 \n",
            "=================================================================\n",
            "Total params: 320391 (1.22 MB)\n",
            "Trainable params: 320391 (1.22 MB)\n",
            "Non-trainable params: 0 (0.00 Byte)\n",
            "_________________________________________________________________\n"
          ]
        }
      ]
    },
    {
      "cell_type": "code",
      "source": [
        "model.compile(loss='binary_crossentropy',optimizer='adam',metrics=['accuracy'])"
      ],
      "metadata": {
        "id": "umJYcJYHyVrV"
      },
      "execution_count": 8,
      "outputs": []
    },
    {
      "cell_type": "code",
      "source": [
        "history=model.fit(x_train,y_train,epochs=5,batch_size=32,validation_split=0.2)"
      ],
      "metadata": {
        "colab": {
          "base_uri": "https://localhost:8080/"
        },
        "id": "LFAzJXtdyqBk",
        "outputId": "11ae5a8e-df1d-4382-b592-41ff30ae8335"
      },
      "execution_count": 9,
      "outputs": [
        {
          "output_type": "stream",
          "name": "stdout",
          "text": [
            "Epoch 1/5\n",
            "625/625 [==============================] - 28s 42ms/step - loss: 0.5939 - accuracy: 0.6985 - val_loss: 0.5238 - val_accuracy: 0.7690\n",
            "Epoch 2/5\n",
            "625/625 [==============================] - 25s 41ms/step - loss: 0.4085 - accuracy: 0.8255 - val_loss: 0.5742 - val_accuracy: 0.7084\n",
            "Epoch 3/5\n",
            "625/625 [==============================] - 25s 40ms/step - loss: 0.2666 - accuracy: 0.8952 - val_loss: 0.5514 - val_accuracy: 0.7830\n",
            "Epoch 4/5\n",
            "625/625 [==============================] - 24s 38ms/step - loss: 0.1533 - accuracy: 0.9518 - val_loss: 0.5848 - val_accuracy: 0.7800\n",
            "Epoch 5/5\n",
            "625/625 [==============================] - 25s 40ms/step - loss: 0.0924 - accuracy: 0.9753 - val_loss: 0.6667 - val_accuracy: 0.7724\n"
          ]
        }
      ]
    },
    {
      "cell_type": "code",
      "source": [],
      "metadata": {
        "id": "qHIHwAJHysbE"
      },
      "execution_count": null,
      "outputs": []
    }
  ]
}